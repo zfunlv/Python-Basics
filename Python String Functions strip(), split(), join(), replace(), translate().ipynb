{
 "cells": [
  {
   "cell_type": "code",
   "execution_count": 1,
   "metadata": {},
   "outputs": [
    {
     "name": "stdout",
     "output_type": "stream",
     "text": [
      "   a\t, I am \n",
      " Happy! \n",
      "\t a\tToday b\n",
      "Today\t\n",
      " Good\n",
      "a\t, I am \n",
      " Happy! \n",
      "\t a\tToday b\n",
      "Today\t\n",
      " Good\n"
     ]
    }
   ],
   "source": [
    "#strip() function, remove all  whitespaces in the begining and ending of a string\n",
    "stra = \"   a\\t, I am \\n Happy! \\n\\t a\\tToday b\\nToday\\t\\n Good\"\n",
    "print(stra)\n",
    "strb = stra.strip()\n",
    "print(strb)"
   ]
  },
  {
   "cell_type": "code",
   "execution_count": 2,
   "metadata": {},
   "outputs": [
    {
     "name": "stdout",
     "output_type": "stream",
     "text": [
      "['a', ',', 'I', 'am', 'Happy!', 'a', 'Today', 'b', 'Today', 'Good']\n",
      "['', '', '', 'a\\t,', 'I', 'am', '\\n', 'Happy!', '\\n\\t', 'a\\tToday', 'b\\nToday\\t\\n', 'Good']\n"
     ]
    }
   ],
   "source": [
    "#split() function, convert a string as a string list, remove all whitespaces, newline and tab characters. \n",
    "#All whitespaces, newline and tab characters are also worked as separtors to split the string into a string list.\n",
    "strc = stra.split()\n",
    "print(strc)\n",
    "#with specified separtors\n",
    "strd = stra.split(\" \")\n",
    "print(strd)"
   ]
  },
  {
   "cell_type": "code",
   "execution_count": 3,
   "metadata": {},
   "outputs": [
    {
     "name": "stdout",
     "output_type": "stream",
     "text": [
      "a , I am Happy! a Today b Today Good\n"
     ]
    }
   ],
   "source": [
    "#join() function, merge a string list into a string with a specified \n",
    "stre = \" \".join(strc)\n",
    "print(stre)"
   ]
  },
  {
   "cell_type": "code",
   "execution_count": 4,
   "metadata": {},
   "outputs": [
    {
     "name": "stdout",
     "output_type": "stream",
     "text": [
      "   a , I am   Happy!    a Today b Today   Good\n"
     ]
    }
   ],
   "source": [
    "#translate() function, remove all whitespaces, newline and tab characters in the string\n",
    "import string\n",
    "strf = stra.translate({ord(c): \" \" for c in string.whitespace})\n",
    "print(strf)"
   ]
  },
  {
   "cell_type": "code",
   "execution_count": null,
   "metadata": {
    "collapsed": true
   },
   "outputs": [],
   "source": []
  }
 ],
 "metadata": {
  "kernelspec": {
   "display_name": "Python 3",
   "language": "python",
   "name": "python3"
  },
  "language_info": {
   "codemirror_mode": {
    "name": "ipython",
    "version": 3
   },
   "file_extension": ".py",
   "mimetype": "text/x-python",
   "name": "python",
   "nbconvert_exporter": "python",
   "pygments_lexer": "ipython3",
   "version": "3.6.3"
  }
 },
 "nbformat": 4,
 "nbformat_minor": 2
}
